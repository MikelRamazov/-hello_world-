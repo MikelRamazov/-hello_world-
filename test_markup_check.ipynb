{
 "cells": [
  {
   "cell_type": "markdown",
   "id": "06144bb7-de0f-4652-a5d3-0156d4845064",
   "metadata": {},
   "source": [
    "Проверка разметки в файле markup.csv"
   ]
  },
  {
   "cell_type": "code",
   "execution_count": 1,
   "id": "382255cf-ec85-4bca-b3ea-c9e6ed8d9243",
   "metadata": {},
   "outputs": [],
   "source": [
    "#  Импортирую пандас\n",
    "import pandas as pd"
   ]
  },
  {
   "cell_type": "code",
   "execution_count": 2,
   "id": "0ff00c73-86a9-49a8-a7f7-6fcef22685b3",
   "metadata": {},
   "outputs": [],
   "source": [
    "# Наш файл с разметкой я заранее распковал, а не воспользовался zipfile\n",
    "markup_path = 'markup.csv'"
   ]
  },
  {
   "cell_type": "code",
   "execution_count": 4,
   "id": "c26b0c5e-1c52-4362-98b4-54b1b3de78b5",
   "metadata": {},
   "outputs": [],
   "source": [
    "# Загружаю данные из файла с разметкой в DataFrame с разделителем в виде табуляции\n",
    "df_markup = pd.read_csv(markup_path, delimiter='\\t')"
   ]
  },
  {
   "cell_type": "code",
   "execution_count": 14,
   "id": "dffea023-2b6c-4d73-bee6-4ec1d71f5d60",
   "metadata": {},
   "outputs": [],
   "source": [
    "# Функция для проверки разметки\n",
    "def check_markup_consistency(markup_df):\n",
    "    errors = []  # Список для записи ошибок\n",
    "    for i in range(1, len(markup_df)):\n",
    "        # Получаю метки текущей строки и предыдущей строки\n",
    "        current_labels = markup_df.loc[i, [\"KE_0\", \"KE_1\", \"KE_2\", \"KE_3\", \"KE_4\"]]\n",
    "        prev_labels = markup_df.loc[i - 1, [\"KE_0\", \"KE_1\", \"KE_2\", \"KE_3\", \"KE_4\"]]\n",
    "        # Проверяю, есть ли метка \"I-Цифры_Номер\" в текущей строке\n",
    "        if any(label.startswith(\"I-Цифры_Номер\") for label in current_labels.values):\n",
    "            # Проверяю, что предыдущая строка содержит метку \"B-Цифры_Номер\" или \"I-Цифры_Номер\" или пустую метку \"о\"\n",
    "            if not any(prev_label.startswith(\"B-Цифры_Номер\") or prev_label.startswith(\"I-Цифры_Номер\") or prev_label == \"о\" for prev_label in prev_labels.values):\n",
    "                # Формируется сообщение об ошибке\n",
    "                error_message = f\"Ошибка в строке {i + 1}: {markup_df.loc[i, 'DocName']} - {markup_df.loc[i, 'Tokens']}\"\n",
    "                errors.append(error_message)  # Добавляю сообщение об ошибке в список\n",
    "    return errors  # Возвращается список ошибок"
   ]
  },
  {
   "cell_type": "code",
   "execution_count": 15,
   "id": "baceefa2-547f-4f3a-ae71-7f05e859b96b",
   "metadata": {},
   "outputs": [
    {
     "name": "stdout",
     "output_type": "stream",
     "text": [
      "Ошибка в строке 43281: Protocol BOCA_18_06_2018.html.txt - 1027739314448\n"
     ]
    }
   ],
   "source": [
    "# Вывод из списка для записи ошибок\n",
    "errors_list = check_markup_consistency(df_markup)\n",
    "for error in errors_list:\n",
    "    print(error)  # Выводим ошибки на экран"
   ]
  }
 ],
 "metadata": {
  "kernelspec": {
   "display_name": "Python 3 (ipykernel)",
   "language": "python",
   "name": "python3"
  },
  "language_info": {
   "codemirror_mode": {
    "name": "ipython",
    "version": 3
   },
   "file_extension": ".py",
   "mimetype": "text/x-python",
   "name": "python",
   "nbconvert_exporter": "python",
   "pygments_lexer": "ipython3",
   "version": "3.12.0"
  }
 },
 "nbformat": 4,
 "nbformat_minor": 5
}
